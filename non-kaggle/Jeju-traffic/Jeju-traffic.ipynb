{
 "cells": [
  {
   "cell_type": "code",
   "execution_count": 2,
   "id": "3778ad65",
   "metadata": {},
   "outputs": [],
   "source": [
    "import pandas as pd\n",
    "import numpy as np"
   ]
  },
  {
   "cell_type": "code",
   "execution_count": 7,
   "id": "f0e39dee",
   "metadata": {},
   "outputs": [],
   "source": [
    "train_df = pd.read_csv(\"../../../data/non-kaggle/Jeju-traffic/train.csv\")\n",
    "test_df = pd.read_csv(\"../../../data/non-kaggle/Jeju-traffic/test.csv\")\n",
    "data_info = pd.read_csv(\"../../../data/non-kaggle/Jeju-traffic/data_info.csv\")\n",
    "sample_submission = pd.read_csv(\"../../../data/non-kaggle/Jeju-traffic/sample_submission.csv\")"
   ]
  },
  {
   "cell_type": "code",
   "execution_count": 8,
   "id": "98ebcccd",
   "metadata": {},
   "outputs": [
    {
     "name": "stdout",
     "output_type": "stream",
     "text": [
      "              id  base_date day_of_week  base_hour  lane_count  road_rating  \\\n",
      "0  TRAIN_0000000   20220623           목         17           1          106   \n",
      "1  TRAIN_0000001   20220728           목         21           2          103   \n",
      "2  TRAIN_0000002   20211010           일          7           2          103   \n",
      "3  TRAIN_0000003   20220311           금         13           2          107   \n",
      "4  TRAIN_0000004   20211005           화          8           2          103   \n",
      "\n",
      "   road_name  multi_linked  connect_code  maximum_speed_limit  ...  road_type  \\\n",
      "0  지방도1112호선             0             0                 60.0  ...          3   \n",
      "1   일반국도11호선             0             0                 60.0  ...          0   \n",
      "2   일반국도16호선             0             0                 80.0  ...          0   \n",
      "3        태평로             0             0                 50.0  ...          0   \n",
      "4   일반국도12호선             0             0                 80.0  ...          0   \n",
      "\n",
      "   start_node_name  start_latitude  start_longitude start_turn_restricted  \\\n",
      "0            제3교래교       33.427747       126.662612                    없음   \n",
      "1            광양사거리       33.500730       126.529107                    있음   \n",
      "2             창고천교       33.279145       126.368598                    없음   \n",
      "3            남양리조트       33.246081       126.567204                    없음   \n",
      "4             애월샷시       33.462214       126.326551                    없음   \n",
      "\n",
      "   end_node_name  end_latitude end_longitude end_turn_restricted  target  \n",
      "0          제3교래교     33.427749    126.662335                  없음    52.0  \n",
      "1         KAL사거리     33.504811    126.526240                  없음    30.0  \n",
      "2           상창육교     33.280072    126.362147                  없음    61.0  \n",
      "3           서현주택     33.245565    126.566228                  없음    20.0  \n",
      "4           애월입구     33.462677    126.330152                  없음    38.0  \n",
      "\n",
      "[5 rows x 23 columns]\n"
     ]
    }
   ],
   "source": [
    "print(train_df.head())"
   ]
  },
  {
   "cell_type": "code",
   "execution_count": 10,
   "id": "5f8ede4f",
   "metadata": {},
   "outputs": [
    {
     "name": "stdout",
     "output_type": "stream",
     "text": [
      "            id  base_date day_of_week  base_hour  lane_count  road_rating  \\\n",
      "0  TEST_000000   20220825           목         17           3          107   \n",
      "1  TEST_000001   20220809           화         12           2          103   \n",
      "2  TEST_000002   20220805           금          2           1          103   \n",
      "3  TEST_000003   20220818           목         23           3          103   \n",
      "4  TEST_000004   20220810           수         17           3          106   \n",
      "\n",
      "  road_name  multi_linked  connect_code  maximum_speed_limit  ...  \\\n",
      "0       연삼로             0             0                 70.0  ...   \n",
      "1  일반국도12호선             0             0                 70.0  ...   \n",
      "2  일반국도16호선             0             0                 60.0  ...   \n",
      "3  일반국도11호선             0             0                 70.0  ...   \n",
      "4       번영로             0             0                 70.0  ...   \n",
      "\n",
      "   height_restricted  road_type  start_node_name  start_latitude  \\\n",
      "0                0.0          0             산지2교       33.499427   \n",
      "1                0.0          3             중문입구       33.258507   \n",
      "2                0.0          0             도순3교       33.258960   \n",
      "3                0.0          0          아라주공아파트       33.473494   \n",
      "4                0.0          0          부록교 시종점       33.501477   \n",
      "\n",
      "  start_longitude  start_turn_restricted  end_node_name end_latitude  \\\n",
      "0      126.541298                     없음        제주은행사거리    33.500772   \n",
      "1      126.427003                     없음         관광단지입구    33.258119   \n",
      "2      126.476508                     없음           도순2교    33.259206   \n",
      "3      126.545647                     없음           인다마을    33.471061   \n",
      "4      126.569223                     없음        봉개교 시종점    33.496863   \n",
      "\n",
      "  end_longitude  end_turn_restricted  \n",
      "0    126.543837                   있음  \n",
      "1    126.415840                   없음  \n",
      "2    126.474687                   없음  \n",
      "3    126.545467                   없음  \n",
      "4    126.581230                   없음  \n",
      "\n",
      "[5 rows x 22 columns]\n"
     ]
    }
   ],
   "source": [
    "print(test_df.head())"
   ]
  },
  {
   "cell_type": "code",
   "execution_count": null,
   "id": "966c1973",
   "metadata": {},
   "outputs": [],
   "source": [
    "p"
   ]
  }
 ],
 "metadata": {
  "kernelspec": {
   "display_name": "Python 3 (ipykernel)",
   "language": "python",
   "name": "python3"
  },
  "language_info": {
   "codemirror_mode": {
    "name": "ipython",
    "version": 3
   },
   "file_extension": ".py",
   "mimetype": "text/x-python",
   "name": "python",
   "nbconvert_exporter": "python",
   "pygments_lexer": "ipython3",
   "version": "3.9.13"
  }
 },
 "nbformat": 4,
 "nbformat_minor": 5
}
