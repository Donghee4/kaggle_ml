{
 "cells": [
  {
   "cell_type": "code",
   "execution_count": 1,
   "id": "3778ad65",
   "metadata": {},
   "outputs": [],
   "source": [
    "import pandas as pd\n",
    "import numpy as np\n",
    "from sklearn.tree import DecisionTreeRegressor\n",
    "from sklearn.model_selection import train_test_split\n",
    "from sklearn.metrics import mean_absolute_error\n",
    "from sklearn.ensemble import RandomForestRegressor\n",
    "from sklearn.preprocessing import LabelEncoder\n",
    "from xgboost import XGBRegressor\n",
    "from sklearn.linear_model import LassoCV, RidgeCV\n",
    "import lightgbm as lgb\n",
    "from sklearn import preprocessing"
   ]
  },
  {
   "cell_type": "code",
   "execution_count": 2,
   "id": "f0e39dee",
   "metadata": {},
   "outputs": [],
   "source": [
    "train_df = pd.read_csv(\"../../../data/non-kaggle/Jeju-traffic/train.csv\")\n",
    "test_df = pd.read_csv(\"../../../data/non-kaggle/Jeju-traffic/test.csv\")\n",
    "data_info = pd.read_csv(\"../../../data/non-kaggle/Jeju-traffic/data_info.csv\")\n",
    "sample_submission = pd.read_csv(\"../../../data/non-kaggle/Jeju-traffic/sample_submission.csv\")"
   ]
  },
  {
   "cell_type": "code",
   "execution_count": 3,
   "id": "98ebcccd",
   "metadata": {},
   "outputs": [
    {
     "name": "stdout",
     "output_type": "stream",
     "text": [
      "              id  base_date day_of_week  base_hour  lane_count  road_rating  \\\n",
      "0  TRAIN_0000000   20220623           목         17           1          106   \n",
      "1  TRAIN_0000001   20220728           목         21           2          103   \n",
      "2  TRAIN_0000002   20211010           일          7           2          103   \n",
      "3  TRAIN_0000003   20220311           금         13           2          107   \n",
      "4  TRAIN_0000004   20211005           화          8           2          103   \n",
      "\n",
      "   road_name  multi_linked  connect_code  maximum_speed_limit  ...  road_type  \\\n",
      "0  지방도1112호선             0             0                 60.0  ...          3   \n",
      "1   일반국도11호선             0             0                 60.0  ...          0   \n",
      "2   일반국도16호선             0             0                 80.0  ...          0   \n",
      "3        태평로             0             0                 50.0  ...          0   \n",
      "4   일반국도12호선             0             0                 80.0  ...          0   \n",
      "\n",
      "   start_node_name  start_latitude  start_longitude start_turn_restricted  \\\n",
      "0            제3교래교       33.427747       126.662612                    없음   \n",
      "1            광양사거리       33.500730       126.529107                    있음   \n",
      "2             창고천교       33.279145       126.368598                    없음   \n",
      "3            남양리조트       33.246081       126.567204                    없음   \n",
      "4             애월샷시       33.462214       126.326551                    없음   \n",
      "\n",
      "   end_node_name  end_latitude end_longitude end_turn_restricted  target  \n",
      "0          제3교래교     33.427749    126.662335                  없음    52.0  \n",
      "1         KAL사거리     33.504811    126.526240                  없음    30.0  \n",
      "2           상창육교     33.280072    126.362147                  없음    61.0  \n",
      "3           서현주택     33.245565    126.566228                  없음    20.0  \n",
      "4           애월입구     33.462677    126.330152                  없음    38.0  \n",
      "\n",
      "[5 rows x 23 columns]\n"
     ]
    }
   ],
   "source": [
    "print(train_df.head())"
   ]
  },
  {
   "cell_type": "code",
   "execution_count": 4,
   "id": "5f8ede4f",
   "metadata": {},
   "outputs": [
    {
     "name": "stdout",
     "output_type": "stream",
     "text": [
      "            id  base_date day_of_week  base_hour  lane_count  road_rating  \\\n",
      "0  TEST_000000   20220825           목         17           3          107   \n",
      "1  TEST_000001   20220809           화         12           2          103   \n",
      "2  TEST_000002   20220805           금          2           1          103   \n",
      "3  TEST_000003   20220818           목         23           3          103   \n",
      "4  TEST_000004   20220810           수         17           3          106   \n",
      "\n",
      "  road_name  multi_linked  connect_code  maximum_speed_limit  ...  \\\n",
      "0       연삼로             0             0                 70.0  ...   \n",
      "1  일반국도12호선             0             0                 70.0  ...   \n",
      "2  일반국도16호선             0             0                 60.0  ...   \n",
      "3  일반국도11호선             0             0                 70.0  ...   \n",
      "4       번영로             0             0                 70.0  ...   \n",
      "\n",
      "   height_restricted  road_type  start_node_name  start_latitude  \\\n",
      "0                0.0          0             산지2교       33.499427   \n",
      "1                0.0          3             중문입구       33.258507   \n",
      "2                0.0          0             도순3교       33.258960   \n",
      "3                0.0          0          아라주공아파트       33.473494   \n",
      "4                0.0          0          부록교 시종점       33.501477   \n",
      "\n",
      "  start_longitude  start_turn_restricted  end_node_name end_latitude  \\\n",
      "0      126.541298                     없음        제주은행사거리    33.500772   \n",
      "1      126.427003                     없음         관광단지입구    33.258119   \n",
      "2      126.476508                     없음           도순2교    33.259206   \n",
      "3      126.545647                     없음           인다마을    33.471061   \n",
      "4      126.569223                     없음        봉개교 시종점    33.496863   \n",
      "\n",
      "  end_longitude  end_turn_restricted  \n",
      "0    126.543837                   있음  \n",
      "1    126.415840                   없음  \n",
      "2    126.474687                   없음  \n",
      "3    126.545467                   없음  \n",
      "4    126.581230                   없음  \n",
      "\n",
      "[5 rows x 22 columns]\n"
     ]
    }
   ],
   "source": [
    "print(test_df.head())"
   ]
  },
  {
   "cell_type": "code",
   "execution_count": 5,
   "id": "567339dd",
   "metadata": {},
   "outputs": [
    {
     "name": "stdout",
     "output_type": "stream",
     "text": [
      "                      변수명           변수 설명\n",
      "0                      id             아이디\n",
      "1               base_date              날짜\n",
      "2             day_of_week              요일\n",
      "3               base_hour             시간대\n",
      "4             road_in_use          도로사용여부\n",
      "5              lane_count             차로수\n",
      "6             road_rating            도로등급\n",
      "7            multi_linked         중용구간 여부\n",
      "8            connect_code          연결로 코드\n",
      "9     maximum_speed_limit          최고속도제한\n",
      "10      weight_restricted          통과제한하중\n",
      "11      height_restricted          통과제한높이\n",
      "12              road_type            도로유형\n",
      "13         start_latitude        시작지점의 위도\n",
      "14        start_longitude        시작지점의 경도\n",
      "15  start_turn_restricted  시작 지점의 회전제한 유무\n",
      "16           end_latitude        도착지점의 위도\n",
      "17          end_longitude        도착지점의 경도\n",
      "18    end_turn_restricted   도작지점의 회전제한 유무\n",
      "19              road_name             도로명\n",
      "20        start_node_name           시작지점명\n",
      "21          end_node_name           도착지점명\n",
      "22     vehicle_restricted          통과제한차량\n",
      "23                 target        평균속도(km)\n"
     ]
    }
   ],
   "source": [
    "print(data_info)"
   ]
  },
  {
   "cell_type": "code",
   "execution_count": 6,
   "id": "56676c46",
   "metadata": {},
   "outputs": [
    {
     "data": {
      "text/html": [
       "<div>\n",
       "<style scoped>\n",
       "    .dataframe tbody tr th:only-of-type {\n",
       "        vertical-align: middle;\n",
       "    }\n",
       "\n",
       "    .dataframe tbody tr th {\n",
       "        vertical-align: top;\n",
       "    }\n",
       "\n",
       "    .dataframe thead th {\n",
       "        text-align: right;\n",
       "    }\n",
       "</style>\n",
       "<table border=\"1\" class=\"dataframe\">\n",
       "  <thead>\n",
       "    <tr style=\"text-align: right;\">\n",
       "      <th></th>\n",
       "      <th>base_date</th>\n",
       "      <th>base_hour</th>\n",
       "      <th>lane_count</th>\n",
       "      <th>road_rating</th>\n",
       "      <th>multi_linked</th>\n",
       "      <th>connect_code</th>\n",
       "      <th>maximum_speed_limit</th>\n",
       "      <th>vehicle_restricted</th>\n",
       "      <th>weight_restricted</th>\n",
       "      <th>height_restricted</th>\n",
       "      <th>road_type</th>\n",
       "      <th>start_latitude</th>\n",
       "      <th>start_longitude</th>\n",
       "      <th>end_latitude</th>\n",
       "      <th>end_longitude</th>\n",
       "      <th>target</th>\n",
       "    </tr>\n",
       "  </thead>\n",
       "  <tbody>\n",
       "    <tr>\n",
       "      <th>count</th>\n",
       "      <td>4.701217e+06</td>\n",
       "      <td>4.701217e+06</td>\n",
       "      <td>4.701217e+06</td>\n",
       "      <td>4.701217e+06</td>\n",
       "      <td>4.701217e+06</td>\n",
       "      <td>4.701217e+06</td>\n",
       "      <td>4.701217e+06</td>\n",
       "      <td>4701217.0</td>\n",
       "      <td>4.701217e+06</td>\n",
       "      <td>4701217.0</td>\n",
       "      <td>4.701217e+06</td>\n",
       "      <td>4.701217e+06</td>\n",
       "      <td>4.701217e+06</td>\n",
       "      <td>4.701217e+06</td>\n",
       "      <td>4.701217e+06</td>\n",
       "      <td>4.701217e+06</td>\n",
       "    </tr>\n",
       "    <tr>\n",
       "      <th>mean</th>\n",
       "      <td>2.021672e+07</td>\n",
       "      <td>1.192820e+01</td>\n",
       "      <td>1.836651e+00</td>\n",
       "      <td>1.049585e+02</td>\n",
       "      <td>4.762597e-04</td>\n",
       "      <td>2.660218e-01</td>\n",
       "      <td>6.125329e+01</td>\n",
       "      <td>0.0</td>\n",
       "      <td>5.618742e+03</td>\n",
       "      <td>0.0</td>\n",
       "      <td>6.152237e-01</td>\n",
       "      <td>3.338432e+01</td>\n",
       "      <td>1.265217e+02</td>\n",
       "      <td>3.338432e+01</td>\n",
       "      <td>1.265217e+02</td>\n",
       "      <td>4.278844e+01</td>\n",
       "    </tr>\n",
       "    <tr>\n",
       "      <th>std</th>\n",
       "      <td>4.555709e+03</td>\n",
       "      <td>6.722092e+00</td>\n",
       "      <td>6.877513e-01</td>\n",
       "      <td>1.840107e+00</td>\n",
       "      <td>2.181818e-02</td>\n",
       "      <td>5.227760e+00</td>\n",
       "      <td>1.213354e+01</td>\n",
       "      <td>0.0</td>\n",
       "      <td>1.395343e+04</td>\n",
       "      <td>0.0</td>\n",
       "      <td>1.211268e+00</td>\n",
       "      <td>1.012015e-01</td>\n",
       "      <td>1.563657e-01</td>\n",
       "      <td>1.011948e-01</td>\n",
       "      <td>1.563519e-01</td>\n",
       "      <td>1.595443e+01</td>\n",
       "    </tr>\n",
       "    <tr>\n",
       "      <th>min</th>\n",
       "      <td>2.021090e+07</td>\n",
       "      <td>0.000000e+00</td>\n",
       "      <td>1.000000e+00</td>\n",
       "      <td>1.030000e+02</td>\n",
       "      <td>0.000000e+00</td>\n",
       "      <td>0.000000e+00</td>\n",
       "      <td>3.000000e+01</td>\n",
       "      <td>0.0</td>\n",
       "      <td>0.000000e+00</td>\n",
       "      <td>0.0</td>\n",
       "      <td>0.000000e+00</td>\n",
       "      <td>3.324343e+01</td>\n",
       "      <td>1.261826e+02</td>\n",
       "      <td>3.324343e+01</td>\n",
       "      <td>1.261826e+02</td>\n",
       "      <td>1.000000e+00</td>\n",
       "    </tr>\n",
       "    <tr>\n",
       "      <th>25%</th>\n",
       "      <td>2.021110e+07</td>\n",
       "      <td>6.000000e+00</td>\n",
       "      <td>1.000000e+00</td>\n",
       "      <td>1.030000e+02</td>\n",
       "      <td>0.000000e+00</td>\n",
       "      <td>0.000000e+00</td>\n",
       "      <td>5.000000e+01</td>\n",
       "      <td>0.0</td>\n",
       "      <td>0.000000e+00</td>\n",
       "      <td>0.0</td>\n",
       "      <td>0.000000e+00</td>\n",
       "      <td>3.326422e+01</td>\n",
       "      <td>1.264232e+02</td>\n",
       "      <td>3.326422e+01</td>\n",
       "      <td>1.264232e+02</td>\n",
       "      <td>3.000000e+01</td>\n",
       "    </tr>\n",
       "    <tr>\n",
       "      <th>50%</th>\n",
       "      <td>2.022013e+07</td>\n",
       "      <td>1.200000e+01</td>\n",
       "      <td>2.000000e+00</td>\n",
       "      <td>1.060000e+02</td>\n",
       "      <td>0.000000e+00</td>\n",
       "      <td>0.000000e+00</td>\n",
       "      <td>6.000000e+01</td>\n",
       "      <td>0.0</td>\n",
       "      <td>0.000000e+00</td>\n",
       "      <td>0.0</td>\n",
       "      <td>0.000000e+00</td>\n",
       "      <td>3.341257e+01</td>\n",
       "      <td>1.265112e+02</td>\n",
       "      <td>3.341257e+01</td>\n",
       "      <td>1.265112e+02</td>\n",
       "      <td>4.300000e+01</td>\n",
       "    </tr>\n",
       "    <tr>\n",
       "      <th>75%</th>\n",
       "      <td>2.022050e+07</td>\n",
       "      <td>1.800000e+01</td>\n",
       "      <td>2.000000e+00</td>\n",
       "      <td>1.070000e+02</td>\n",
       "      <td>0.000000e+00</td>\n",
       "      <td>0.000000e+00</td>\n",
       "      <td>7.000000e+01</td>\n",
       "      <td>0.0</td>\n",
       "      <td>0.000000e+00</td>\n",
       "      <td>0.0</td>\n",
       "      <td>0.000000e+00</td>\n",
       "      <td>3.347804e+01</td>\n",
       "      <td>1.265840e+02</td>\n",
       "      <td>3.347804e+01</td>\n",
       "      <td>1.265840e+02</td>\n",
       "      <td>5.400000e+01</td>\n",
       "    </tr>\n",
       "    <tr>\n",
       "      <th>max</th>\n",
       "      <td>2.022073e+07</td>\n",
       "      <td>2.300000e+01</td>\n",
       "      <td>3.000000e+00</td>\n",
       "      <td>1.070000e+02</td>\n",
       "      <td>1.000000e+00</td>\n",
       "      <td>1.030000e+02</td>\n",
       "      <td>8.000000e+01</td>\n",
       "      <td>0.0</td>\n",
       "      <td>5.000000e+04</td>\n",
       "      <td>0.0</td>\n",
       "      <td>3.000000e+00</td>\n",
       "      <td>3.355608e+01</td>\n",
       "      <td>1.269309e+02</td>\n",
       "      <td>3.355608e+01</td>\n",
       "      <td>1.269309e+02</td>\n",
       "      <td>1.130000e+02</td>\n",
       "    </tr>\n",
       "  </tbody>\n",
       "</table>\n",
       "</div>"
      ],
      "text/plain": [
       "          base_date     base_hour    lane_count   road_rating  multi_linked  \\\n",
       "count  4.701217e+06  4.701217e+06  4.701217e+06  4.701217e+06  4.701217e+06   \n",
       "mean   2.021672e+07  1.192820e+01  1.836651e+00  1.049585e+02  4.762597e-04   \n",
       "std    4.555709e+03  6.722092e+00  6.877513e-01  1.840107e+00  2.181818e-02   \n",
       "min    2.021090e+07  0.000000e+00  1.000000e+00  1.030000e+02  0.000000e+00   \n",
       "25%    2.021110e+07  6.000000e+00  1.000000e+00  1.030000e+02  0.000000e+00   \n",
       "50%    2.022013e+07  1.200000e+01  2.000000e+00  1.060000e+02  0.000000e+00   \n",
       "75%    2.022050e+07  1.800000e+01  2.000000e+00  1.070000e+02  0.000000e+00   \n",
       "max    2.022073e+07  2.300000e+01  3.000000e+00  1.070000e+02  1.000000e+00   \n",
       "\n",
       "       connect_code  maximum_speed_limit  vehicle_restricted  \\\n",
       "count  4.701217e+06         4.701217e+06           4701217.0   \n",
       "mean   2.660218e-01         6.125329e+01                 0.0   \n",
       "std    5.227760e+00         1.213354e+01                 0.0   \n",
       "min    0.000000e+00         3.000000e+01                 0.0   \n",
       "25%    0.000000e+00         5.000000e+01                 0.0   \n",
       "50%    0.000000e+00         6.000000e+01                 0.0   \n",
       "75%    0.000000e+00         7.000000e+01                 0.0   \n",
       "max    1.030000e+02         8.000000e+01                 0.0   \n",
       "\n",
       "       weight_restricted  height_restricted     road_type  start_latitude  \\\n",
       "count       4.701217e+06          4701217.0  4.701217e+06    4.701217e+06   \n",
       "mean        5.618742e+03                0.0  6.152237e-01    3.338432e+01   \n",
       "std         1.395343e+04                0.0  1.211268e+00    1.012015e-01   \n",
       "min         0.000000e+00                0.0  0.000000e+00    3.324343e+01   \n",
       "25%         0.000000e+00                0.0  0.000000e+00    3.326422e+01   \n",
       "50%         0.000000e+00                0.0  0.000000e+00    3.341257e+01   \n",
       "75%         0.000000e+00                0.0  0.000000e+00    3.347804e+01   \n",
       "max         5.000000e+04                0.0  3.000000e+00    3.355608e+01   \n",
       "\n",
       "       start_longitude  end_latitude  end_longitude        target  \n",
       "count     4.701217e+06  4.701217e+06   4.701217e+06  4.701217e+06  \n",
       "mean      1.265217e+02  3.338432e+01   1.265217e+02  4.278844e+01  \n",
       "std       1.563657e-01  1.011948e-01   1.563519e-01  1.595443e+01  \n",
       "min       1.261826e+02  3.324343e+01   1.261826e+02  1.000000e+00  \n",
       "25%       1.264232e+02  3.326422e+01   1.264232e+02  3.000000e+01  \n",
       "50%       1.265112e+02  3.341257e+01   1.265112e+02  4.300000e+01  \n",
       "75%       1.265840e+02  3.347804e+01   1.265840e+02  5.400000e+01  \n",
       "max       1.269309e+02  3.355608e+01   1.269309e+02  1.130000e+02  "
      ]
     },
     "execution_count": 6,
     "metadata": {},
     "output_type": "execute_result"
    }
   ],
   "source": [
    "train_df.describe()"
   ]
  },
  {
   "cell_type": "code",
   "execution_count": 7,
   "id": "97f5f47c",
   "metadata": {},
   "outputs": [
    {
     "data": {
      "text/plain": [
       "0          0.0\n",
       "1          0.0\n",
       "2          0.0\n",
       "3          0.0\n",
       "4          0.0\n",
       "          ... \n",
       "4701212    0.0\n",
       "4701213    0.0\n",
       "4701214    0.0\n",
       "4701215    0.0\n",
       "4701216    0.0\n",
       "Name: vehicle_restricted, Length: 4701217, dtype: float64"
      ]
     },
     "execution_count": 7,
     "metadata": {},
     "output_type": "execute_result"
    }
   ],
   "source": [
    "train_df[train_df['vehicle_restricted'] == 0]['vehicle_restricted']"
   ]
  },
  {
   "cell_type": "code",
   "execution_count": 8,
   "id": "67443967",
   "metadata": {},
   "outputs": [],
   "source": [
    "# vehicle_restricted 컬럼은 전부 0 이므로 필요가 없음"
   ]
  },
  {
   "cell_type": "code",
   "execution_count": null,
   "id": "bc80af50",
   "metadata": {},
   "outputs": [],
   "source": []
  },
  {
   "cell_type": "code",
   "execution_count": 9,
   "id": "d57be1bd",
   "metadata": {},
   "outputs": [],
   "source": [
    "str_col = ['day_of_week','start_turn_restricted','end_turn_restricted','road_name']\n",
    "for i in str_col:\n",
    "    le = LabelEncoder()\n",
    "    le=le.fit(train_df[i])\n",
    "    train_df[i]=le.transform(train_df[i])\n",
    "    \n",
    "    for label in np.unique(test_df[i]):\n",
    "        if label not in le.classes_: \n",
    "            le.classes_ = np.append(le.classes_, label)\n",
    "    test_df[i]=le.transform(test_df[i])"
   ]
  },
  {
   "cell_type": "code",
   "execution_count": 10,
   "id": "c5ce166f",
   "metadata": {},
   "outputs": [
    {
     "name": "stdout",
     "output_type": "stream",
     "text": [
      "(4701217,)\n",
      "(4701217, 15)\n",
      "(291241, 15)\n"
     ]
    }
   ],
   "source": [
    "Y = train_df['target'] \n",
    "\n",
    "X = train_df.drop(['id','base_date', 'target', 'start_node_name', 'end_node_name','vehicle_restricted',\n",
    "                      'end_longitude', 'start_longitude'], axis=1)\n",
    "\n",
    "X_test = test_df.drop(['id','base_date', 'start_node_name', 'end_node_name','vehicle_restricted',\n",
    "                 'end_longitude', 'start_longitude'], axis=1)\n",
    "\n",
    "print(Y.shape)\n",
    "print(X.shape)\n",
    "print(X_test.shape)"
   ]
  },
  {
   "cell_type": "code",
   "execution_count": null,
   "id": "341db5f8",
   "metadata": {},
   "outputs": [],
   "source": []
  },
  {
   "cell_type": "code",
   "execution_count": null,
   "id": "8349ac7c",
   "metadata": {},
   "outputs": [],
   "source": []
  },
  {
   "cell_type": "code",
   "execution_count": null,
   "id": "e4493e83",
   "metadata": {},
   "outputs": [],
   "source": []
  },
  {
   "cell_type": "code",
   "execution_count": 11,
   "id": "1802c54e",
   "metadata": {},
   "outputs": [],
   "source": [
    "train_X, val_X, train_y, val_y = train_test_split(X, Y)"
   ]
  },
  {
   "cell_type": "code",
   "execution_count": 12,
   "id": "20a0dbe1",
   "metadata": {},
   "outputs": [],
   "source": [
    "# for i in [10000,20000,30000,40000,50000,60000,70000]:\n",
    "#     model = DecisionTreeRegressor(max_leaf_nodes = i, random_state=1)\n",
    "#     model.fit(train_X, train_y)\n",
    "#     predictions = model.predict(val_X)\n",
    "#     print(mean_absolute_error(val_y, predictions))"
   ]
  },
  {
   "cell_type": "code",
   "execution_count": null,
   "id": "5bbd160d",
   "metadata": {},
   "outputs": [],
   "source": []
  },
  {
   "cell_type": "code",
   "execution_count": 13,
   "id": "9d5c31f4",
   "metadata": {},
   "outputs": [],
   "source": [
    "LR = lgb.LGBMRegressor(random_state=42).fit(train_X, train_y)"
   ]
  },
  {
   "cell_type": "code",
   "execution_count": 14,
   "id": "3cae1122",
   "metadata": {
    "scrolled": true
   },
   "outputs": [
    {
     "name": "stdout",
     "output_type": "stream",
     "text": [
      "5.107865468996465\n"
     ]
    }
   ],
   "source": [
    "print(mean_absolute_error(LR.predict(val_X), val_y))"
   ]
  },
  {
   "cell_type": "code",
   "execution_count": null,
   "id": "fb7b51ba",
   "metadata": {},
   "outputs": [],
   "source": []
  },
  {
   "cell_type": "code",
   "execution_count": 15,
   "id": "6503a247",
   "metadata": {},
   "outputs": [],
   "source": [
    "XGBR = XGBRegressor(random_state=42).fit(train_X, train_y)"
   ]
  },
  {
   "cell_type": "code",
   "execution_count": 16,
   "id": "17973ec6",
   "metadata": {},
   "outputs": [
    {
     "name": "stdout",
     "output_type": "stream",
     "text": [
      "4.03332658512482\n"
     ]
    }
   ],
   "source": [
    "print(mean_absolute_error(XGBR.predict(val_X), val_y))"
   ]
  },
  {
   "cell_type": "code",
   "execution_count": null,
   "id": "62980bd2",
   "metadata": {},
   "outputs": [],
   "source": []
  },
  {
   "cell_type": "code",
   "execution_count": 17,
   "id": "e6851d17",
   "metadata": {},
   "outputs": [],
   "source": [
    "RFR = RandomForestRegressor(random_state=42).fit(train_X, train_y)"
   ]
  },
  {
   "cell_type": "code",
   "execution_count": 18,
   "id": "c380ab48",
   "metadata": {},
   "outputs": [
    {
     "name": "stdout",
     "output_type": "stream",
     "text": [
      "3.5581862784053557\n"
     ]
    }
   ],
   "source": [
    "print(mean_absolute_error(RFR.predict(val_X), val_y))"
   ]
  },
  {
   "cell_type": "code",
   "execution_count": null,
   "id": "df1a093f",
   "metadata": {},
   "outputs": [],
   "source": []
  },
  {
   "cell_type": "code",
   "execution_count": 19,
   "id": "3b304e57",
   "metadata": {},
   "outputs": [],
   "source": [
    "DTR = DecisionTreeRegressor(random_state=42).fit(train_X, train_y)"
   ]
  },
  {
   "cell_type": "code",
   "execution_count": 20,
   "id": "eee6d03a",
   "metadata": {},
   "outputs": [
    {
     "name": "stdout",
     "output_type": "stream",
     "text": [
      "3.5589690873838165\n"
     ]
    }
   ],
   "source": [
    "print(mean_absolute_error(DTR.predict(val_X),val_y))"
   ]
  },
  {
   "cell_type": "code",
   "execution_count": null,
   "id": "9a55ba20",
   "metadata": {},
   "outputs": [],
   "source": []
  },
  {
   "cell_type": "code",
   "execution_count": 21,
   "id": "eb01bdac",
   "metadata": {},
   "outputs": [],
   "source": [
    "lasso = LassoCV(random_state=42).fit(train_X, train_y)"
   ]
  },
  {
   "cell_type": "code",
   "execution_count": 22,
   "id": "27a353d0",
   "metadata": {},
   "outputs": [
    {
     "name": "stdout",
     "output_type": "stream",
     "text": [
      "12.287586547871504\n"
     ]
    }
   ],
   "source": [
    "print(mean_absolute_error(lasso.predict(val_X), val_y))"
   ]
  },
  {
   "cell_type": "code",
   "execution_count": null,
   "id": "f8e52f95",
   "metadata": {},
   "outputs": [],
   "source": []
  },
  {
   "cell_type": "code",
   "execution_count": 23,
   "id": "d5e48d12",
   "metadata": {},
   "outputs": [],
   "source": [
    "ridge = RidgeCV().fit(train_X, train_y)"
   ]
  },
  {
   "cell_type": "code",
   "execution_count": 24,
   "id": "0ba48a39",
   "metadata": {},
   "outputs": [
    {
     "name": "stdout",
     "output_type": "stream",
     "text": [
      "256.93505415519235\n"
     ]
    }
   ],
   "source": [
    "print(mean_absolute_error(ridge.predict(val_X), val_y))"
   ]
  },
  {
   "cell_type": "code",
   "execution_count": null,
   "id": "09fdcfba",
   "metadata": {},
   "outputs": [],
   "source": []
  },
  {
   "cell_type": "code",
   "execution_count": null,
   "id": "36ecf2aa",
   "metadata": {},
   "outputs": [
    {
     "name": "stdout",
     "output_type": "stream",
     "text": [
      "3.5581862784053557\n",
      "3.5576902690263466\n"
     ]
    }
   ],
   "source": [
    "for i in [100,1000,10000,50000,100000]:\n",
    "    RFR = RandomForestRegressor(random_state=42, n_estimators=i).fit(train_X, train_y)\n",
    "    print(mean_absolute_error(RFR.predict(val_X), val_y))"
   ]
  },
  {
   "cell_type": "code",
   "execution_count": null,
   "id": "a048feec",
   "metadata": {},
   "outputs": [],
   "source": []
  },
  {
   "cell_type": "code",
   "execution_count": null,
   "id": "6561763c",
   "metadata": {},
   "outputs": [],
   "source": []
  },
  {
   "cell_type": "code",
   "execution_count": null,
   "id": "e9e72022",
   "metadata": {},
   "outputs": [],
   "source": [
    "# predictions = model.predict(test_df[columns])"
   ]
  },
  {
   "cell_type": "code",
   "execution_count": null,
   "id": "9689d37c",
   "metadata": {},
   "outputs": [],
   "source": [
    "# sample_submission['target'] = predictions"
   ]
  },
  {
   "cell_type": "code",
   "execution_count": null,
   "id": "ec98aafc",
   "metadata": {},
   "outputs": [],
   "source": [
    "# sample_submission"
   ]
  },
  {
   "cell_type": "code",
   "execution_count": null,
   "id": "deb2af62",
   "metadata": {},
   "outputs": [],
   "source": [
    "# sample_submission.to_csv(\"../../../data/non-kaggle/Jeju-traffic/submit/Jeju_submit05.csv\", index=False)"
   ]
  },
  {
   "cell_type": "code",
   "execution_count": null,
   "id": "b7786fdf",
   "metadata": {},
   "outputs": [],
   "source": []
  },
  {
   "cell_type": "code",
   "execution_count": null,
   "id": "6b4683b1",
   "metadata": {},
   "outputs": [],
   "source": []
  }
 ],
 "metadata": {
  "kernelspec": {
   "display_name": "Python 3 (ipykernel)",
   "language": "python",
   "name": "python3"
  },
  "language_info": {
   "codemirror_mode": {
    "name": "ipython",
    "version": 3
   },
   "file_extension": ".py",
   "mimetype": "text/x-python",
   "name": "python",
   "nbconvert_exporter": "python",
   "pygments_lexer": "ipython3",
   "version": "3.9.13"
  }
 },
 "nbformat": 4,
 "nbformat_minor": 5
}
