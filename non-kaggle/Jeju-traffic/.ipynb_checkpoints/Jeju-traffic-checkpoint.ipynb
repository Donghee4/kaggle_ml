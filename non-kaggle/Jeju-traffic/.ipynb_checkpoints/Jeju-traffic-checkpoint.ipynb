{
 "cells": [
  {
   "cell_type": "code",
   "execution_count": 1,
   "id": "3778ad65",
   "metadata": {},
   "outputs": [],
   "source": [
    "import pandas as pd\n",
    "import numpy as np\n",
    "from sklearn.tree import DecisionTreeRegressor\n",
    "from sklearn.model_selection import train_test_split\n",
    "from sklearn.metrics import mean_absolute_error"
   ]
  },
  {
   "cell_type": "code",
   "execution_count": 2,
   "id": "f0e39dee",
   "metadata": {},
   "outputs": [],
   "source": [
    "train_df = pd.read_csv(\"../../../data/non-kaggle/Jeju-traffic/train.csv\")\n",
    "test_df = pd.read_csv(\"../../../data/non-kaggle/Jeju-traffic/test.csv\")\n",
    "data_info = pd.read_csv(\"../../../data/non-kaggle/Jeju-traffic/data_info.csv\")\n",
    "sample_submission = pd.read_csv(\"../../../data/non-kaggle/Jeju-traffic/sample_submission.csv\")"
   ]
  },
  {
   "cell_type": "code",
   "execution_count": 3,
   "id": "98ebcccd",
   "metadata": {},
   "outputs": [
    {
     "name": "stdout",
     "output_type": "stream",
     "text": [
      "              id  base_date day_of_week  base_hour  lane_count  road_rating  \\\n",
      "0  TRAIN_0000000   20220623           목         17           1          106   \n",
      "1  TRAIN_0000001   20220728           목         21           2          103   \n",
      "2  TRAIN_0000002   20211010           일          7           2          103   \n",
      "3  TRAIN_0000003   20220311           금         13           2          107   \n",
      "4  TRAIN_0000004   20211005           화          8           2          103   \n",
      "\n",
      "   road_name  multi_linked  connect_code  maximum_speed_limit  ...  road_type  \\\n",
      "0  지방도1112호선             0             0                 60.0  ...          3   \n",
      "1   일반국도11호선             0             0                 60.0  ...          0   \n",
      "2   일반국도16호선             0             0                 80.0  ...          0   \n",
      "3        태평로             0             0                 50.0  ...          0   \n",
      "4   일반국도12호선             0             0                 80.0  ...          0   \n",
      "\n",
      "   start_node_name  start_latitude  start_longitude start_turn_restricted  \\\n",
      "0            제3교래교       33.427747       126.662612                    없음   \n",
      "1            광양사거리       33.500730       126.529107                    있음   \n",
      "2             창고천교       33.279145       126.368598                    없음   \n",
      "3            남양리조트       33.246081       126.567204                    없음   \n",
      "4             애월샷시       33.462214       126.326551                    없음   \n",
      "\n",
      "   end_node_name  end_latitude end_longitude end_turn_restricted  target  \n",
      "0          제3교래교     33.427749    126.662335                  없음    52.0  \n",
      "1         KAL사거리     33.504811    126.526240                  없음    30.0  \n",
      "2           상창육교     33.280072    126.362147                  없음    61.0  \n",
      "3           서현주택     33.245565    126.566228                  없음    20.0  \n",
      "4           애월입구     33.462677    126.330152                  없음    38.0  \n",
      "\n",
      "[5 rows x 23 columns]\n"
     ]
    }
   ],
   "source": [
    "print(train_df.head())"
   ]
  },
  {
   "cell_type": "code",
   "execution_count": 4,
   "id": "5f8ede4f",
   "metadata": {},
   "outputs": [
    {
     "name": "stdout",
     "output_type": "stream",
     "text": [
      "            id  base_date day_of_week  base_hour  lane_count  road_rating  \\\n",
      "0  TEST_000000   20220825           목         17           3          107   \n",
      "1  TEST_000001   20220809           화         12           2          103   \n",
      "2  TEST_000002   20220805           금          2           1          103   \n",
      "3  TEST_000003   20220818           목         23           3          103   \n",
      "4  TEST_000004   20220810           수         17           3          106   \n",
      "\n",
      "  road_name  multi_linked  connect_code  maximum_speed_limit  ...  \\\n",
      "0       연삼로             0             0                 70.0  ...   \n",
      "1  일반국도12호선             0             0                 70.0  ...   \n",
      "2  일반국도16호선             0             0                 60.0  ...   \n",
      "3  일반국도11호선             0             0                 70.0  ...   \n",
      "4       번영로             0             0                 70.0  ...   \n",
      "\n",
      "   height_restricted  road_type  start_node_name  start_latitude  \\\n",
      "0                0.0          0             산지2교       33.499427   \n",
      "1                0.0          3             중문입구       33.258507   \n",
      "2                0.0          0             도순3교       33.258960   \n",
      "3                0.0          0          아라주공아파트       33.473494   \n",
      "4                0.0          0          부록교 시종점       33.501477   \n",
      "\n",
      "  start_longitude  start_turn_restricted  end_node_name end_latitude  \\\n",
      "0      126.541298                     없음        제주은행사거리    33.500772   \n",
      "1      126.427003                     없음         관광단지입구    33.258119   \n",
      "2      126.476508                     없음           도순2교    33.259206   \n",
      "3      126.545647                     없음           인다마을    33.471061   \n",
      "4      126.569223                     없음        봉개교 시종점    33.496863   \n",
      "\n",
      "  end_longitude  end_turn_restricted  \n",
      "0    126.543837                   있음  \n",
      "1    126.415840                   없음  \n",
      "2    126.474687                   없음  \n",
      "3    126.545467                   없음  \n",
      "4    126.581230                   없음  \n",
      "\n",
      "[5 rows x 22 columns]\n"
     ]
    }
   ],
   "source": [
    "print(test_df.head())"
   ]
  },
  {
   "cell_type": "code",
   "execution_count": 5,
   "id": "567339dd",
   "metadata": {},
   "outputs": [
    {
     "name": "stdout",
     "output_type": "stream",
     "text": [
      "                      변수명           변수 설명\n",
      "0                      id             아이디\n",
      "1               base_date              날짜\n",
      "2             day_of_week              요일\n",
      "3               base_hour             시간대\n",
      "4             road_in_use          도로사용여부\n",
      "5              lane_count             차로수\n",
      "6             road_rating            도로등급\n",
      "7            multi_linked         중용구간 여부\n",
      "8            connect_code          연결로 코드\n",
      "9     maximum_speed_limit          최고속도제한\n",
      "10      weight_restricted          통과제한하중\n",
      "11      height_restricted          통과제한높이\n",
      "12              road_type            도로유형\n",
      "13         start_latitude        시작지점의 위도\n",
      "14        start_longitude        시작지점의 경도\n",
      "15  start_turn_restricted  시작 지점의 회전제한 유무\n",
      "16           end_latitude        도착지점의 위도\n",
      "17          end_longitude        도착지점의 경도\n",
      "18    end_turn_restricted   도작지점의 회전제한 유무\n",
      "19              road_name             도로명\n",
      "20        start_node_name           시작지점명\n",
      "21          end_node_name           도착지점명\n",
      "22     vehicle_restricted          통과제한차량\n",
      "23                 target        평균속도(km)\n"
     ]
    }
   ],
   "source": [
    "print(data_info)"
   ]
  },
  {
   "cell_type": "code",
   "execution_count": 6,
   "id": "56676c46",
   "metadata": {},
   "outputs": [
    {
     "data": {
      "text/html": [
       "<div>\n",
       "<style scoped>\n",
       "    .dataframe tbody tr th:only-of-type {\n",
       "        vertical-align: middle;\n",
       "    }\n",
       "\n",
       "    .dataframe tbody tr th {\n",
       "        vertical-align: top;\n",
       "    }\n",
       "\n",
       "    .dataframe thead th {\n",
       "        text-align: right;\n",
       "    }\n",
       "</style>\n",
       "<table border=\"1\" class=\"dataframe\">\n",
       "  <thead>\n",
       "    <tr style=\"text-align: right;\">\n",
       "      <th></th>\n",
       "      <th>base_date</th>\n",
       "      <th>base_hour</th>\n",
       "      <th>lane_count</th>\n",
       "      <th>road_rating</th>\n",
       "      <th>multi_linked</th>\n",
       "      <th>connect_code</th>\n",
       "      <th>maximum_speed_limit</th>\n",
       "      <th>vehicle_restricted</th>\n",
       "      <th>weight_restricted</th>\n",
       "      <th>height_restricted</th>\n",
       "      <th>road_type</th>\n",
       "      <th>start_latitude</th>\n",
       "      <th>start_longitude</th>\n",
       "      <th>end_latitude</th>\n",
       "      <th>end_longitude</th>\n",
       "      <th>target</th>\n",
       "    </tr>\n",
       "  </thead>\n",
       "  <tbody>\n",
       "    <tr>\n",
       "      <th>count</th>\n",
       "      <td>4.701217e+06</td>\n",
       "      <td>4.701217e+06</td>\n",
       "      <td>4.701217e+06</td>\n",
       "      <td>4.701217e+06</td>\n",
       "      <td>4.701217e+06</td>\n",
       "      <td>4.701217e+06</td>\n",
       "      <td>4.701217e+06</td>\n",
       "      <td>4701217.0</td>\n",
       "      <td>4.701217e+06</td>\n",
       "      <td>4701217.0</td>\n",
       "      <td>4.701217e+06</td>\n",
       "      <td>4.701217e+06</td>\n",
       "      <td>4.701217e+06</td>\n",
       "      <td>4.701217e+06</td>\n",
       "      <td>4.701217e+06</td>\n",
       "      <td>4.701217e+06</td>\n",
       "    </tr>\n",
       "    <tr>\n",
       "      <th>mean</th>\n",
       "      <td>2.021672e+07</td>\n",
       "      <td>1.192820e+01</td>\n",
       "      <td>1.836651e+00</td>\n",
       "      <td>1.049585e+02</td>\n",
       "      <td>4.762597e-04</td>\n",
       "      <td>2.660218e-01</td>\n",
       "      <td>6.125329e+01</td>\n",
       "      <td>0.0</td>\n",
       "      <td>5.618742e+03</td>\n",
       "      <td>0.0</td>\n",
       "      <td>6.152237e-01</td>\n",
       "      <td>3.338432e+01</td>\n",
       "      <td>1.265217e+02</td>\n",
       "      <td>3.338432e+01</td>\n",
       "      <td>1.265217e+02</td>\n",
       "      <td>4.278844e+01</td>\n",
       "    </tr>\n",
       "    <tr>\n",
       "      <th>std</th>\n",
       "      <td>4.555709e+03</td>\n",
       "      <td>6.722092e+00</td>\n",
       "      <td>6.877513e-01</td>\n",
       "      <td>1.840107e+00</td>\n",
       "      <td>2.181818e-02</td>\n",
       "      <td>5.227760e+00</td>\n",
       "      <td>1.213354e+01</td>\n",
       "      <td>0.0</td>\n",
       "      <td>1.395343e+04</td>\n",
       "      <td>0.0</td>\n",
       "      <td>1.211268e+00</td>\n",
       "      <td>1.012015e-01</td>\n",
       "      <td>1.563657e-01</td>\n",
       "      <td>1.011948e-01</td>\n",
       "      <td>1.563519e-01</td>\n",
       "      <td>1.595443e+01</td>\n",
       "    </tr>\n",
       "    <tr>\n",
       "      <th>min</th>\n",
       "      <td>2.021090e+07</td>\n",
       "      <td>0.000000e+00</td>\n",
       "      <td>1.000000e+00</td>\n",
       "      <td>1.030000e+02</td>\n",
       "      <td>0.000000e+00</td>\n",
       "      <td>0.000000e+00</td>\n",
       "      <td>3.000000e+01</td>\n",
       "      <td>0.0</td>\n",
       "      <td>0.000000e+00</td>\n",
       "      <td>0.0</td>\n",
       "      <td>0.000000e+00</td>\n",
       "      <td>3.324343e+01</td>\n",
       "      <td>1.261826e+02</td>\n",
       "      <td>3.324343e+01</td>\n",
       "      <td>1.261826e+02</td>\n",
       "      <td>1.000000e+00</td>\n",
       "    </tr>\n",
       "    <tr>\n",
       "      <th>25%</th>\n",
       "      <td>2.021110e+07</td>\n",
       "      <td>6.000000e+00</td>\n",
       "      <td>1.000000e+00</td>\n",
       "      <td>1.030000e+02</td>\n",
       "      <td>0.000000e+00</td>\n",
       "      <td>0.000000e+00</td>\n",
       "      <td>5.000000e+01</td>\n",
       "      <td>0.0</td>\n",
       "      <td>0.000000e+00</td>\n",
       "      <td>0.0</td>\n",
       "      <td>0.000000e+00</td>\n",
       "      <td>3.326422e+01</td>\n",
       "      <td>1.264232e+02</td>\n",
       "      <td>3.326422e+01</td>\n",
       "      <td>1.264232e+02</td>\n",
       "      <td>3.000000e+01</td>\n",
       "    </tr>\n",
       "    <tr>\n",
       "      <th>50%</th>\n",
       "      <td>2.022013e+07</td>\n",
       "      <td>1.200000e+01</td>\n",
       "      <td>2.000000e+00</td>\n",
       "      <td>1.060000e+02</td>\n",
       "      <td>0.000000e+00</td>\n",
       "      <td>0.000000e+00</td>\n",
       "      <td>6.000000e+01</td>\n",
       "      <td>0.0</td>\n",
       "      <td>0.000000e+00</td>\n",
       "      <td>0.0</td>\n",
       "      <td>0.000000e+00</td>\n",
       "      <td>3.341257e+01</td>\n",
       "      <td>1.265112e+02</td>\n",
       "      <td>3.341257e+01</td>\n",
       "      <td>1.265112e+02</td>\n",
       "      <td>4.300000e+01</td>\n",
       "    </tr>\n",
       "    <tr>\n",
       "      <th>75%</th>\n",
       "      <td>2.022050e+07</td>\n",
       "      <td>1.800000e+01</td>\n",
       "      <td>2.000000e+00</td>\n",
       "      <td>1.070000e+02</td>\n",
       "      <td>0.000000e+00</td>\n",
       "      <td>0.000000e+00</td>\n",
       "      <td>7.000000e+01</td>\n",
       "      <td>0.0</td>\n",
       "      <td>0.000000e+00</td>\n",
       "      <td>0.0</td>\n",
       "      <td>0.000000e+00</td>\n",
       "      <td>3.347804e+01</td>\n",
       "      <td>1.265840e+02</td>\n",
       "      <td>3.347804e+01</td>\n",
       "      <td>1.265840e+02</td>\n",
       "      <td>5.400000e+01</td>\n",
       "    </tr>\n",
       "    <tr>\n",
       "      <th>max</th>\n",
       "      <td>2.022073e+07</td>\n",
       "      <td>2.300000e+01</td>\n",
       "      <td>3.000000e+00</td>\n",
       "      <td>1.070000e+02</td>\n",
       "      <td>1.000000e+00</td>\n",
       "      <td>1.030000e+02</td>\n",
       "      <td>8.000000e+01</td>\n",
       "      <td>0.0</td>\n",
       "      <td>5.000000e+04</td>\n",
       "      <td>0.0</td>\n",
       "      <td>3.000000e+00</td>\n",
       "      <td>3.355608e+01</td>\n",
       "      <td>1.269309e+02</td>\n",
       "      <td>3.355608e+01</td>\n",
       "      <td>1.269309e+02</td>\n",
       "      <td>1.130000e+02</td>\n",
       "    </tr>\n",
       "  </tbody>\n",
       "</table>\n",
       "</div>"
      ],
      "text/plain": [
       "          base_date     base_hour    lane_count   road_rating  multi_linked  \\\n",
       "count  4.701217e+06  4.701217e+06  4.701217e+06  4.701217e+06  4.701217e+06   \n",
       "mean   2.021672e+07  1.192820e+01  1.836651e+00  1.049585e+02  4.762597e-04   \n",
       "std    4.555709e+03  6.722092e+00  6.877513e-01  1.840107e+00  2.181818e-02   \n",
       "min    2.021090e+07  0.000000e+00  1.000000e+00  1.030000e+02  0.000000e+00   \n",
       "25%    2.021110e+07  6.000000e+00  1.000000e+00  1.030000e+02  0.000000e+00   \n",
       "50%    2.022013e+07  1.200000e+01  2.000000e+00  1.060000e+02  0.000000e+00   \n",
       "75%    2.022050e+07  1.800000e+01  2.000000e+00  1.070000e+02  0.000000e+00   \n",
       "max    2.022073e+07  2.300000e+01  3.000000e+00  1.070000e+02  1.000000e+00   \n",
       "\n",
       "       connect_code  maximum_speed_limit  vehicle_restricted  \\\n",
       "count  4.701217e+06         4.701217e+06           4701217.0   \n",
       "mean   2.660218e-01         6.125329e+01                 0.0   \n",
       "std    5.227760e+00         1.213354e+01                 0.0   \n",
       "min    0.000000e+00         3.000000e+01                 0.0   \n",
       "25%    0.000000e+00         5.000000e+01                 0.0   \n",
       "50%    0.000000e+00         6.000000e+01                 0.0   \n",
       "75%    0.000000e+00         7.000000e+01                 0.0   \n",
       "max    1.030000e+02         8.000000e+01                 0.0   \n",
       "\n",
       "       weight_restricted  height_restricted     road_type  start_latitude  \\\n",
       "count       4.701217e+06          4701217.0  4.701217e+06    4.701217e+06   \n",
       "mean        5.618742e+03                0.0  6.152237e-01    3.338432e+01   \n",
       "std         1.395343e+04                0.0  1.211268e+00    1.012015e-01   \n",
       "min         0.000000e+00                0.0  0.000000e+00    3.324343e+01   \n",
       "25%         0.000000e+00                0.0  0.000000e+00    3.326422e+01   \n",
       "50%         0.000000e+00                0.0  0.000000e+00    3.341257e+01   \n",
       "75%         0.000000e+00                0.0  0.000000e+00    3.347804e+01   \n",
       "max         5.000000e+04                0.0  3.000000e+00    3.355608e+01   \n",
       "\n",
       "       start_longitude  end_latitude  end_longitude        target  \n",
       "count     4.701217e+06  4.701217e+06   4.701217e+06  4.701217e+06  \n",
       "mean      1.265217e+02  3.338432e+01   1.265217e+02  4.278844e+01  \n",
       "std       1.563657e-01  1.011948e-01   1.563519e-01  1.595443e+01  \n",
       "min       1.261826e+02  3.324343e+01   1.261826e+02  1.000000e+00  \n",
       "25%       1.264232e+02  3.326422e+01   1.264232e+02  3.000000e+01  \n",
       "50%       1.265112e+02  3.341257e+01   1.265112e+02  4.300000e+01  \n",
       "75%       1.265840e+02  3.347804e+01   1.265840e+02  5.400000e+01  \n",
       "max       1.269309e+02  3.355608e+01   1.269309e+02  1.130000e+02  "
      ]
     },
     "execution_count": 6,
     "metadata": {},
     "output_type": "execute_result"
    }
   ],
   "source": [
    "train_df.describe()"
   ]
  },
  {
   "cell_type": "code",
   "execution_count": 7,
   "id": "97f5f47c",
   "metadata": {},
   "outputs": [
    {
     "data": {
      "text/plain": [
       "0          0.0\n",
       "1          0.0\n",
       "2          0.0\n",
       "3          0.0\n",
       "4          0.0\n",
       "          ... \n",
       "4701212    0.0\n",
       "4701213    0.0\n",
       "4701214    0.0\n",
       "4701215    0.0\n",
       "4701216    0.0\n",
       "Name: vehicle_restricted, Length: 4701217, dtype: float64"
      ]
     },
     "execution_count": 7,
     "metadata": {},
     "output_type": "execute_result"
    }
   ],
   "source": [
    "train_df[train_df['vehicle_restricted'] == 0]['vehicle_restricted']"
   ]
  },
  {
   "cell_type": "code",
   "execution_count": 8,
   "id": "67443967",
   "metadata": {},
   "outputs": [],
   "source": [
    "# vehicle_restricted 컬럼은 전부 0 이므로 필요가 없음"
   ]
  },
  {
   "cell_type": "code",
   "execution_count": 9,
   "id": "ac6a3367",
   "metadata": {},
   "outputs": [
    {
     "data": {
      "text/plain": [
       "array(['목', '일', '금', '화', '월', '수', '토'], dtype=object)"
      ]
     },
     "execution_count": 9,
     "metadata": {},
     "output_type": "execute_result"
    }
   ],
   "source": [
    "train_df['day_of_week'].unique()"
   ]
  },
  {
   "cell_type": "code",
   "execution_count": 20,
   "id": "85b2a69b",
   "metadata": {},
   "outputs": [],
   "source": [
    "train_df.loc[train_df['day_of_week'] == '월','day_of_week'] ='1'\n",
    "train_df.loc[train_df['day_of_week'] == '화','day_of_week'] ='2'\n",
    "train_df.loc[train_df['day_of_week'] == '수','day_of_week'] ='3'\n",
    "train_df.loc[train_df['day_of_week'] == '목','day_of_week'] ='4'\n",
    "train_df.loc[train_df['day_of_week'] == '금','day_of_week'] ='5'\n",
    "train_df.loc[train_df['day_of_week'] == '토','day_of_week'] ='6'\n",
    "train_df.loc[train_df['day_of_week'] == '일','day_of_week'] ='7'"
   ]
  },
  {
   "cell_type": "code",
   "execution_count": 21,
   "id": "1a709153",
   "metadata": {},
   "outputs": [
    {
     "data": {
      "text/plain": [
       "array(['4', '7', '5', '2', '1', '3', '6'], dtype=object)"
      ]
     },
     "execution_count": 21,
     "metadata": {},
     "output_type": "execute_result"
    }
   ],
   "source": [
    "train_df['day_of_week'].unique()"
   ]
  },
  {
   "cell_type": "code",
   "execution_count": 22,
   "id": "1c5ab952",
   "metadata": {},
   "outputs": [
    {
     "data": {
      "text/html": [
       "<div>\n",
       "<style scoped>\n",
       "    .dataframe tbody tr th:only-of-type {\n",
       "        vertical-align: middle;\n",
       "    }\n",
       "\n",
       "    .dataframe tbody tr th {\n",
       "        vertical-align: top;\n",
       "    }\n",
       "\n",
       "    .dataframe thead th {\n",
       "        text-align: right;\n",
       "    }\n",
       "</style>\n",
       "<table border=\"1\" class=\"dataframe\">\n",
       "  <thead>\n",
       "    <tr style=\"text-align: right;\">\n",
       "      <th></th>\n",
       "      <th>id</th>\n",
       "      <th>base_date</th>\n",
       "      <th>day_of_week</th>\n",
       "      <th>base_hour</th>\n",
       "      <th>lane_count</th>\n",
       "      <th>road_rating</th>\n",
       "      <th>road_name</th>\n",
       "      <th>multi_linked</th>\n",
       "      <th>connect_code</th>\n",
       "      <th>maximum_speed_limit</th>\n",
       "      <th>...</th>\n",
       "      <th>road_type</th>\n",
       "      <th>start_node_name</th>\n",
       "      <th>start_latitude</th>\n",
       "      <th>start_longitude</th>\n",
       "      <th>start_turn_restricted</th>\n",
       "      <th>end_node_name</th>\n",
       "      <th>end_latitude</th>\n",
       "      <th>end_longitude</th>\n",
       "      <th>end_turn_restricted</th>\n",
       "      <th>target</th>\n",
       "    </tr>\n",
       "  </thead>\n",
       "  <tbody>\n",
       "    <tr>\n",
       "      <th>0</th>\n",
       "      <td>TRAIN_0000000</td>\n",
       "      <td>20220623</td>\n",
       "      <td>4</td>\n",
       "      <td>17</td>\n",
       "      <td>1</td>\n",
       "      <td>106</td>\n",
       "      <td>지방도1112호선</td>\n",
       "      <td>0</td>\n",
       "      <td>0</td>\n",
       "      <td>60.0</td>\n",
       "      <td>...</td>\n",
       "      <td>3</td>\n",
       "      <td>제3교래교</td>\n",
       "      <td>33.427747</td>\n",
       "      <td>126.662612</td>\n",
       "      <td>없음</td>\n",
       "      <td>제3교래교</td>\n",
       "      <td>33.427749</td>\n",
       "      <td>126.662335</td>\n",
       "      <td>없음</td>\n",
       "      <td>52.0</td>\n",
       "    </tr>\n",
       "    <tr>\n",
       "      <th>1</th>\n",
       "      <td>TRAIN_0000001</td>\n",
       "      <td>20220728</td>\n",
       "      <td>4</td>\n",
       "      <td>21</td>\n",
       "      <td>2</td>\n",
       "      <td>103</td>\n",
       "      <td>일반국도11호선</td>\n",
       "      <td>0</td>\n",
       "      <td>0</td>\n",
       "      <td>60.0</td>\n",
       "      <td>...</td>\n",
       "      <td>0</td>\n",
       "      <td>광양사거리</td>\n",
       "      <td>33.500730</td>\n",
       "      <td>126.529107</td>\n",
       "      <td>있음</td>\n",
       "      <td>KAL사거리</td>\n",
       "      <td>33.504811</td>\n",
       "      <td>126.526240</td>\n",
       "      <td>없음</td>\n",
       "      <td>30.0</td>\n",
       "    </tr>\n",
       "    <tr>\n",
       "      <th>2</th>\n",
       "      <td>TRAIN_0000002</td>\n",
       "      <td>20211010</td>\n",
       "      <td>7</td>\n",
       "      <td>7</td>\n",
       "      <td>2</td>\n",
       "      <td>103</td>\n",
       "      <td>일반국도16호선</td>\n",
       "      <td>0</td>\n",
       "      <td>0</td>\n",
       "      <td>80.0</td>\n",
       "      <td>...</td>\n",
       "      <td>0</td>\n",
       "      <td>창고천교</td>\n",
       "      <td>33.279145</td>\n",
       "      <td>126.368598</td>\n",
       "      <td>없음</td>\n",
       "      <td>상창육교</td>\n",
       "      <td>33.280072</td>\n",
       "      <td>126.362147</td>\n",
       "      <td>없음</td>\n",
       "      <td>61.0</td>\n",
       "    </tr>\n",
       "    <tr>\n",
       "      <th>3</th>\n",
       "      <td>TRAIN_0000003</td>\n",
       "      <td>20220311</td>\n",
       "      <td>5</td>\n",
       "      <td>13</td>\n",
       "      <td>2</td>\n",
       "      <td>107</td>\n",
       "      <td>태평로</td>\n",
       "      <td>0</td>\n",
       "      <td>0</td>\n",
       "      <td>50.0</td>\n",
       "      <td>...</td>\n",
       "      <td>0</td>\n",
       "      <td>남양리조트</td>\n",
       "      <td>33.246081</td>\n",
       "      <td>126.567204</td>\n",
       "      <td>없음</td>\n",
       "      <td>서현주택</td>\n",
       "      <td>33.245565</td>\n",
       "      <td>126.566228</td>\n",
       "      <td>없음</td>\n",
       "      <td>20.0</td>\n",
       "    </tr>\n",
       "    <tr>\n",
       "      <th>4</th>\n",
       "      <td>TRAIN_0000004</td>\n",
       "      <td>20211005</td>\n",
       "      <td>2</td>\n",
       "      <td>8</td>\n",
       "      <td>2</td>\n",
       "      <td>103</td>\n",
       "      <td>일반국도12호선</td>\n",
       "      <td>0</td>\n",
       "      <td>0</td>\n",
       "      <td>80.0</td>\n",
       "      <td>...</td>\n",
       "      <td>0</td>\n",
       "      <td>애월샷시</td>\n",
       "      <td>33.462214</td>\n",
       "      <td>126.326551</td>\n",
       "      <td>없음</td>\n",
       "      <td>애월입구</td>\n",
       "      <td>33.462677</td>\n",
       "      <td>126.330152</td>\n",
       "      <td>없음</td>\n",
       "      <td>38.0</td>\n",
       "    </tr>\n",
       "  </tbody>\n",
       "</table>\n",
       "<p>5 rows × 23 columns</p>\n",
       "</div>"
      ],
      "text/plain": [
       "              id  base_date day_of_week  base_hour  lane_count  road_rating  \\\n",
       "0  TRAIN_0000000   20220623           4         17           1          106   \n",
       "1  TRAIN_0000001   20220728           4         21           2          103   \n",
       "2  TRAIN_0000002   20211010           7          7           2          103   \n",
       "3  TRAIN_0000003   20220311           5         13           2          107   \n",
       "4  TRAIN_0000004   20211005           2          8           2          103   \n",
       "\n",
       "   road_name  multi_linked  connect_code  maximum_speed_limit  ...  road_type  \\\n",
       "0  지방도1112호선             0             0                 60.0  ...          3   \n",
       "1   일반국도11호선             0             0                 60.0  ...          0   \n",
       "2   일반국도16호선             0             0                 80.0  ...          0   \n",
       "3        태평로             0             0                 50.0  ...          0   \n",
       "4   일반국도12호선             0             0                 80.0  ...          0   \n",
       "\n",
       "   start_node_name  start_latitude  start_longitude start_turn_restricted  \\\n",
       "0            제3교래교       33.427747       126.662612                    없음   \n",
       "1            광양사거리       33.500730       126.529107                    있음   \n",
       "2             창고천교       33.279145       126.368598                    없음   \n",
       "3            남양리조트       33.246081       126.567204                    없음   \n",
       "4             애월샷시       33.462214       126.326551                    없음   \n",
       "\n",
       "   end_node_name  end_latitude end_longitude end_turn_restricted  target  \n",
       "0          제3교래교     33.427749    126.662335                  없음    52.0  \n",
       "1         KAL사거리     33.504811    126.526240                  없음    30.0  \n",
       "2           상창육교     33.280072    126.362147                  없음    61.0  \n",
       "3           서현주택     33.245565    126.566228                  없음    20.0  \n",
       "4           애월입구     33.462677    126.330152                  없음    38.0  \n",
       "\n",
       "[5 rows x 23 columns]"
      ]
     },
     "execution_count": 22,
     "metadata": {},
     "output_type": "execute_result"
    }
   ],
   "source": [
    "train_df.head()"
   ]
  },
  {
   "cell_type": "code",
   "execution_count": null,
   "id": "623cc46f",
   "metadata": {},
   "outputs": [],
   "source": []
  },
  {
   "cell_type": "code",
   "execution_count": 31,
   "id": "43e2c6ee",
   "metadata": {},
   "outputs": [],
   "source": [
    "model = DecisionTreeRegressor()"
   ]
  },
  {
   "cell_type": "code",
   "execution_count": 32,
   "id": "10c7dc86",
   "metadata": {},
   "outputs": [],
   "source": [
    "columns = ['day_of_week','road_type','start_latitude','start_longitude','end_latitude','end_longitude','base_hour']"
   ]
  },
  {
   "cell_type": "code",
   "execution_count": 33,
   "id": "a49af9c1",
   "metadata": {},
   "outputs": [],
   "source": [
    "train_X, val_X, train_y, val_y = train_test_split(train_df[columns], train_df['target'])"
   ]
  },
  {
   "cell_type": "code",
   "execution_count": null,
   "id": "65cd0329",
   "metadata": {},
   "outputs": [],
   "source": []
  },
  {
   "cell_type": "code",
   "execution_count": null,
   "id": "f5a7cf83",
   "metadata": {},
   "outputs": [],
   "source": []
  },
  {
   "cell_type": "code",
   "execution_count": null,
   "id": "5ab42787",
   "metadata": {},
   "outputs": [],
   "source": []
  },
  {
   "cell_type": "code",
   "execution_count": null,
   "id": "321a6a10",
   "metadata": {},
   "outputs": [],
   "source": []
  },
  {
   "cell_type": "code",
   "execution_count": null,
   "id": "3140925d",
   "metadata": {},
   "outputs": [],
   "source": []
  },
  {
   "cell_type": "code",
   "execution_count": null,
   "id": "9775bebf",
   "metadata": {},
   "outputs": [],
   "source": []
  },
  {
   "cell_type": "code",
   "execution_count": 34,
   "id": "d0f574e7",
   "metadata": {},
   "outputs": [
    {
     "data": {
      "text/html": [
       "<style>#sk-container-id-2 {color: black;background-color: white;}#sk-container-id-2 pre{padding: 0;}#sk-container-id-2 div.sk-toggleable {background-color: white;}#sk-container-id-2 label.sk-toggleable__label {cursor: pointer;display: block;width: 100%;margin-bottom: 0;padding: 0.3em;box-sizing: border-box;text-align: center;}#sk-container-id-2 label.sk-toggleable__label-arrow:before {content: \"▸\";float: left;margin-right: 0.25em;color: #696969;}#sk-container-id-2 label.sk-toggleable__label-arrow:hover:before {color: black;}#sk-container-id-2 div.sk-estimator:hover label.sk-toggleable__label-arrow:before {color: black;}#sk-container-id-2 div.sk-toggleable__content {max-height: 0;max-width: 0;overflow: hidden;text-align: left;background-color: #f0f8ff;}#sk-container-id-2 div.sk-toggleable__content pre {margin: 0.2em;color: black;border-radius: 0.25em;background-color: #f0f8ff;}#sk-container-id-2 input.sk-toggleable__control:checked~div.sk-toggleable__content {max-height: 200px;max-width: 100%;overflow: auto;}#sk-container-id-2 input.sk-toggleable__control:checked~label.sk-toggleable__label-arrow:before {content: \"▾\";}#sk-container-id-2 div.sk-estimator input.sk-toggleable__control:checked~label.sk-toggleable__label {background-color: #d4ebff;}#sk-container-id-2 div.sk-label input.sk-toggleable__control:checked~label.sk-toggleable__label {background-color: #d4ebff;}#sk-container-id-2 input.sk-hidden--visually {border: 0;clip: rect(1px 1px 1px 1px);clip: rect(1px, 1px, 1px, 1px);height: 1px;margin: -1px;overflow: hidden;padding: 0;position: absolute;width: 1px;}#sk-container-id-2 div.sk-estimator {font-family: monospace;background-color: #f0f8ff;border: 1px dotted black;border-radius: 0.25em;box-sizing: border-box;margin-bottom: 0.5em;}#sk-container-id-2 div.sk-estimator:hover {background-color: #d4ebff;}#sk-container-id-2 div.sk-parallel-item::after {content: \"\";width: 100%;border-bottom: 1px solid gray;flex-grow: 1;}#sk-container-id-2 div.sk-label:hover label.sk-toggleable__label {background-color: #d4ebff;}#sk-container-id-2 div.sk-serial::before {content: \"\";position: absolute;border-left: 1px solid gray;box-sizing: border-box;top: 0;bottom: 0;left: 50%;z-index: 0;}#sk-container-id-2 div.sk-serial {display: flex;flex-direction: column;align-items: center;background-color: white;padding-right: 0.2em;padding-left: 0.2em;position: relative;}#sk-container-id-2 div.sk-item {position: relative;z-index: 1;}#sk-container-id-2 div.sk-parallel {display: flex;align-items: stretch;justify-content: center;background-color: white;position: relative;}#sk-container-id-2 div.sk-item::before, #sk-container-id-2 div.sk-parallel-item::before {content: \"\";position: absolute;border-left: 1px solid gray;box-sizing: border-box;top: 0;bottom: 0;left: 50%;z-index: -1;}#sk-container-id-2 div.sk-parallel-item {display: flex;flex-direction: column;z-index: 1;position: relative;background-color: white;}#sk-container-id-2 div.sk-parallel-item:first-child::after {align-self: flex-end;width: 50%;}#sk-container-id-2 div.sk-parallel-item:last-child::after {align-self: flex-start;width: 50%;}#sk-container-id-2 div.sk-parallel-item:only-child::after {width: 0;}#sk-container-id-2 div.sk-dashed-wrapped {border: 1px dashed gray;margin: 0 0.4em 0.5em 0.4em;box-sizing: border-box;padding-bottom: 0.4em;background-color: white;}#sk-container-id-2 div.sk-label label {font-family: monospace;font-weight: bold;display: inline-block;line-height: 1.2em;}#sk-container-id-2 div.sk-label-container {text-align: center;}#sk-container-id-2 div.sk-container {/* jupyter's `normalize.less` sets `[hidden] { display: none; }` but bootstrap.min.css set `[hidden] { display: none !important; }` so we also need the `!important` here to be able to override the default hidden behavior on the sphinx rendered scikit-learn.org. See: https://github.com/scikit-learn/scikit-learn/issues/21755 */display: inline-block !important;position: relative;}#sk-container-id-2 div.sk-text-repr-fallback {display: none;}</style><div id=\"sk-container-id-2\" class=\"sk-top-container\"><div class=\"sk-text-repr-fallback\"><pre>DecisionTreeRegressor()</pre><b>In a Jupyter environment, please rerun this cell to show the HTML representation or trust the notebook. <br />On GitHub, the HTML representation is unable to render, please try loading this page with nbviewer.org.</b></div><div class=\"sk-container\" hidden><div class=\"sk-item\"><div class=\"sk-estimator sk-toggleable\"><input class=\"sk-toggleable__control sk-hidden--visually\" id=\"sk-estimator-id-2\" type=\"checkbox\" checked><label for=\"sk-estimator-id-2\" class=\"sk-toggleable__label sk-toggleable__label-arrow\">DecisionTreeRegressor</label><div class=\"sk-toggleable__content\"><pre>DecisionTreeRegressor()</pre></div></div></div></div></div>"
      ],
      "text/plain": [
       "DecisionTreeRegressor()"
      ]
     },
     "execution_count": 34,
     "metadata": {},
     "output_type": "execute_result"
    }
   ],
   "source": [
    "model.fit(train_X, train_y)"
   ]
  },
  {
   "cell_type": "code",
   "execution_count": 35,
   "id": "ee2662f5",
   "metadata": {},
   "outputs": [],
   "source": [
    "val_predictions = model.predict(val_X)"
   ]
  },
  {
   "cell_type": "code",
   "execution_count": 36,
   "id": "52689bda",
   "metadata": {},
   "outputs": [],
   "source": [
    "MAE = mean_absolute_error(val_y, val_predictions)"
   ]
  },
  {
   "cell_type": "code",
   "execution_count": 37,
   "id": "e6a33fe2",
   "metadata": {},
   "outputs": [
    {
     "name": "stdout",
     "output_type": "stream",
     "text": [
      "3.5596772224798623\n"
     ]
    }
   ],
   "source": [
    "print(MAE)"
   ]
  },
  {
   "cell_type": "code",
   "execution_count": null,
   "id": "e9e72022",
   "metadata": {},
   "outputs": [],
   "source": []
  },
  {
   "cell_type": "code",
   "execution_count": null,
   "id": "9689d37c",
   "metadata": {},
   "outputs": [],
   "source": [
    "# sample_submission['target'] = predictions"
   ]
  },
  {
   "cell_type": "code",
   "execution_count": null,
   "id": "ec98aafc",
   "metadata": {},
   "outputs": [],
   "source": [
    "# sample_submission"
   ]
  },
  {
   "cell_type": "code",
   "execution_count": null,
   "id": "deb2af62",
   "metadata": {},
   "outputs": [],
   "source": [
    "# sample_submission.to_csv(\"../../../data/non-kaggle/Jeju-traffic/submit/Jeju_submit01.csv\", index=False)"
   ]
  },
  {
   "cell_type": "code",
   "execution_count": null,
   "id": "b7786fdf",
   "metadata": {},
   "outputs": [],
   "source": []
  },
  {
   "cell_type": "code",
   "execution_count": null,
   "id": "6b4683b1",
   "metadata": {},
   "outputs": [],
   "source": []
  }
 ],
 "metadata": {
  "kernelspec": {
   "display_name": "Python 3 (ipykernel)",
   "language": "python",
   "name": "python3"
  },
  "language_info": {
   "codemirror_mode": {
    "name": "ipython",
    "version": 3
   },
   "file_extension": ".py",
   "mimetype": "text/x-python",
   "name": "python",
   "nbconvert_exporter": "python",
   "pygments_lexer": "ipython3",
   "version": "3.9.13"
  }
 },
 "nbformat": 4,
 "nbformat_minor": 5
}
