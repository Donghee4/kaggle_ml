{
 "cells": [
  {
   "cell_type": "code",
   "execution_count": 11,
   "id": "1250923b",
   "metadata": {},
   "outputs": [],
   "source": [
    "import pandas as pd\n",
    "import numpy as np\n",
    "import os"
   ]
  },
  {
   "cell_type": "code",
   "execution_count": 12,
   "id": "2463cf6c",
   "metadata": {},
   "outputs": [
    {
     "data": {
      "text/plain": [
       "0    0.5\n",
       "1    0.5\n",
       "Name: label, dtype: float64"
      ]
     },
     "execution_count": 12,
     "metadata": {},
     "output_type": "execute_result"
    }
   ],
   "source": [
    "train_labels = pd.read_csv('../../data/TPSnov22/train_labels.csv', index_col=0)\n",
    "train_labels.label.value_counts(True)"
   ]
  },
  {
   "cell_type": "code",
   "execution_count": 14,
   "id": "5d5b10f6",
   "metadata": {},
   "outputs": [],
   "source": [
    "#import some lib\n",
    "import pandas as pd\n",
    "import numpy as np\n",
    "import scipy.special\n",
    "\n",
    "import seaborn as sns\n",
    "import matplotlib.colors as mpl_colors\n",
    "import matplotlib.pyplot as plt\n",
    "import matplotlib.ticker as ticker\n",
    "import matplotlib as mpl\n",
    "\n",
    "import lightgbm as lgb\n",
    "from lightgbm import LGBMClassifier\n",
    "from lightgbm.callback import early_stopping, log_evaluation\n",
    "\n",
    "from sklearn.model_selection import train_test_split\n",
    "from sklearn.model_selection import StratifiedKFold\n",
    "\n",
    "from tqdm import tqdm\n",
    "# import path\n",
    "import pathlib\n",
    "\n",
    "from colorama import Fore, Back, Style\n",
    "\n",
    "def hex_to_rgb(h):\n",
    "    h = h.lstrip('#')\n",
    "    return tuple(int(h[i:i+2], 16)/255 for i in (0, 2, 4))\n",
    "\n",
    "palette = ['#b4d2b1', '#568f8b', '#1d4a60', '#cd7e59', '#ddb247', '#d15252']\n",
    "palette_rgb = [hex_to_rgb(x) for x in palette]\n",
    "cmap = mpl_colors.ListedColormap(palette_rgb)\n",
    "colors = cmap.colors\n",
    "bg_color= '#fdfcf6'\n",
    "\n",
    "custom_params = {\n",
    "    \"axes.spines.right\": False,\n",
    "    \"axes.spines.top\": False,\n",
    "    'grid.alpha':0.3,\n",
    "    'figure.figsize': (16, 6),\n",
    "    'axes.titlesize': 'Large',\n",
    "    'axes.labelsize': 'Large',\n",
    "    'figure.facecolor': bg_color,\n",
    "    'axes.facecolor': bg_color\n",
    "}\n",
    "\n",
    "sns.set_theme(\n",
    "    style='whitegrid',\n",
    "    palette=sns.color_palette(palette),\n",
    "    rc=custom_params\n",
    ")"
   ]
  },
  {
   "cell_type": "code",
   "execution_count": 10,
   "id": "c33fd460",
   "metadata": {},
   "outputs": [
    {
     "name": "stdout",
     "output_type": "stream",
     "text": [
      "CPU times: total: 1min 44s\n",
      "Wall time: 2min 9s\n"
     ]
    }
   ],
   "source": [
    "%%time\n",
    "READ_FROM_CSV = True\n",
    "if READ_FROM_CSV:\n",
    "    predictions_files = []\n",
    "    path = '../../data/TPSnov22/submission_files'\n",
    "\n",
    "    for file in os.listdir(path):\n",
    "        prediction = pd.read_csv(\n",
    "            os.path.join(path, file),\n",
    "            index_col=0,\n",
    "            dtype={'id':np.int32, 'pred':np.float64}\n",
    "        ) \n",
    "\n",
    "        prediction.columns = [file]\n",
    "        predictions_files.append(prediction)\n",
    "\n",
    "    preds_df = pd.concat(predictions_files, axis=1)\n",
    "    preds_df.to_parquet('preds_concat.parquet', compression='gzip')\n",
    "else:\n",
    "    preds_df = pd.read_parquet(\n",
    "        '../../data/TPSnov22/tps_nov_df.parquet'\n",
    "    )"
   ]
  },
  {
   "cell_type": "code",
   "execution_count": null,
   "id": "5b5bb1ac",
   "metadata": {},
   "outputs": [],
   "source": []
  },
  {
   "cell_type": "code",
   "execution_count": null,
   "id": "06829832",
   "metadata": {},
   "outputs": [],
   "source": []
  },
  {
   "cell_type": "code",
   "execution_count": null,
   "id": "09206492",
   "metadata": {},
   "outputs": [],
   "source": []
  },
  {
   "cell_type": "code",
   "execution_count": null,
   "id": "8d630084",
   "metadata": {},
   "outputs": [],
   "source": []
  },
  {
   "cell_type": "code",
   "execution_count": null,
   "id": "daa089fc",
   "metadata": {},
   "outputs": [],
   "source": []
  },
  {
   "cell_type": "code",
   "execution_count": null,
   "id": "e4375151",
   "metadata": {},
   "outputs": [],
   "source": []
  },
  {
   "cell_type": "code",
   "execution_count": null,
   "id": "a376dec3",
   "metadata": {},
   "outputs": [],
   "source": []
  },
  {
   "cell_type": "code",
   "execution_count": null,
   "id": "f7ff020e",
   "metadata": {},
   "outputs": [],
   "source": []
  }
 ],
 "metadata": {
  "kernelspec": {
   "display_name": "Python 3 (ipykernel)",
   "language": "python",
   "name": "python3"
  },
  "language_info": {
   "codemirror_mode": {
    "name": "ipython",
    "version": 3
   },
   "file_extension": ".py",
   "mimetype": "text/x-python",
   "name": "python",
   "nbconvert_exporter": "python",
   "pygments_lexer": "ipython3",
   "version": "3.9.12"
  }
 },
 "nbformat": 4,
 "nbformat_minor": 5
}
